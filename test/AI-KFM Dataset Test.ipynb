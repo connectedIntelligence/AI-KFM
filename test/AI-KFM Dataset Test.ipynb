{
 "cells": [
  {
   "cell_type": "code",
   "execution_count": 1,
   "id": "54f82245",
   "metadata": {},
   "outputs": [],
   "source": [
    "from aikfm import AikfmDataset\n",
    "import numpy as np\n",
    "import torch.nn.functional as F\n",
    "from torch.utils.data import DataLoader"
   ]
  },
  {
   "cell_type": "code",
   "execution_count": 2,
   "id": "0625ca2d",
   "metadata": {},
   "outputs": [
    {
     "name": "stdout",
     "output_type": "stream",
     "text": [
      "Number of images : 270, \n",
      "Image shape : torch.Size([3, 1200, 1600]), \n",
      " target mask shape: torch.Size([1, 1200, 1600])\n"
     ]
    }
   ],
   "source": [
    "ds = AikfmDataset(\"~/DKLabs/AI-KFM/AI-KFM/data\")\n",
    "n = ds.__len__()\n",
    "img, target = ds.__getitem__(5)\n",
    "\n",
    "print(f'Number of images : {n}, \\nImage shape : {img.shape}, \\n target mask shape: {target.shape}')"
   ]
  },
  {
   "cell_type": "code",
   "execution_count": 3,
   "id": "cadefd24",
   "metadata": {},
   "outputs": [],
   "source": [
    "from matplotlib import pyplot as plt"
   ]
  },
  {
   "cell_type": "code",
   "execution_count": 5,
   "id": "8e6e1930",
   "metadata": {},
   "outputs": [],
   "source": [
    "img, target = ds.__getitem__(2)"
   ]
  },
  {
   "cell_type": "code",
   "execution_count": 6,
   "id": "a871841d",
   "metadata": {},
   "outputs": [
    {
     "data": {
      "image/png": "[encoded data removed]",
      "text/plain": [
       "<Figure size 432x288 with 1 Axes>"
      ]
     },
     "metadata": {
      "needs_background": "light"
     },
     "output_type": "display_data"
    }
   ],
   "source": [
    "# plt.imshow(img.numpy())\n",
    "plt.imshow(np.float32(target['mask'].numpy()).transpose((1, 2, 0))*img.numpy().transpose((1, 2, 0)))\n",
    "plt.show()"
   ]
  },
  {
   "cell_type": "code",
   "execution_count": 8,
   "id": "52fffd85",
   "metadata": {},
   "outputs": [
    {
     "data": {
      "image/png": "[encoded data removed]",
      "text/plain": [
       "<Figure size 432x288 with 1 Axes>"
      ]
     },
     "metadata": {
      "needs_background": "light"
     },
     "output_type": "display_data"
    }
   ],
   "source": [
    "plt.imshow(np.float32(target['mask'].numpy()).transpose((1, 2, 0)))\n",
    "plt.show()"
   ]
  },
  {
   "cell_type": "code",
   "execution_count": 9,
   "id": "314b28bf",
   "metadata": {},
   "outputs": [
    {
     "data": {
      "text/plain": [
       "array([0, 1], dtype=uint8)"
      ]
     },
     "execution_count": 9,
     "metadata": {},
     "output_type": "execute_result"
    }
   ],
   "source": [
    "np.unique(target['mask'].numpy())"
   ]
  },
  {
   "cell_type": "code",
   "execution_count": 33,
   "id": "4ad785cc",
   "metadata": {},
   "outputs": [
    {
     "data": {
      "text/plain": [
       "21648"
      ]
     },
     "execution_count": 33,
     "metadata": {},
     "output_type": "execute_result"
    }
   ],
   "source": [
    "np.count_nonzero(target['mask'].numpy())"
   ]
  },
  {
   "cell_type": "code",
   "execution_count": 34,
   "id": "754aa726",
   "metadata": {},
   "outputs": [
    {
     "data": {
      "text/plain": [
       "tensor([[1510., 1592.,  366.,  454.]])"
      ]
     },
     "execution_count": 34,
     "metadata": {},
     "output_type": "execute_result"
    }
   ],
   "source": [
    "target['bboxs']"
   ]
  },
  {
   "cell_type": "code",
   "execution_count": 10,
   "id": "0aba18d5",
   "metadata": {},
   "outputs": [
    {
     "data": {
      "text/plain": [
       "['Sample1/images/micro_00_06',\n",
       " 'Sample1/images/micro_04_06',\n",
       " 'Sample1/images/micro_01_02',\n",
       " 'Sample1/images/micro_05_01',\n",
       " 'Sample1/images/micro_07_08',\n",
       " 'Sample1/images/micro_08_07',\n",
       " 'Sample1/images/micro_07_04',\n",
       " 'Sample1/images/micro_12_08',\n",
       " 'Sample1/images/micro_09_07',\n",
       " 'Sample1/images/micro_15_05',\n",
       " 'Sample1/images/micro_04_01',\n",
       " 'Sample1/images/micro_13_05',\n",
       " 'Sample1/images/micro_09_01',\n",
       " 'Sample1/images/micro_08_05',\n",
       " 'Sample1/images/micro_13_07',\n",
       " 'Sample1/images/micro_14_06',\n",
       " 'Sample1/images/micro_00_04',\n",
       " 'Sample1/images/micro_02_06',\n",
       " 'Sample1/images/micro_09_09',\n",
       " 'Sample1/images/micro_08_06',\n",
       " 'Sample1/images/micro_04_00',\n",
       " 'Sample1/images/micro_12_03',\n",
       " 'Sample1/images/micro_02_08',\n",
       " 'Sample1/images/micro_03_08',\n",
       " 'Sample1/images/micro_07_01',\n",
       " 'Sample1/images/micro_12_04',\n",
       " 'Sample1/images/micro_02_02',\n",
       " 'Sample1/images/micro_03_03',\n",
       " 'Sample1/images/micro_03_02',\n",
       " 'Sample1/images/micro_08_04',\n",
       " 'Sample1/images/micro_01_00',\n",
       " 'Sample1/images/micro_03_00',\n",
       " 'Sample1/images/micro_03_07',\n",
       " 'Sample1/images/micro_10_06',\n",
       " 'Sample1/images/micro_05_02',\n",
       " 'Sample1/images/micro_12_01',\n",
       " 'Sample1/images/micro_13_06',\n",
       " 'Sample1/images/micro_02_05',\n",
       " 'Sample1/images/micro_05_07',\n",
       " 'Sample1/images/micro_12_05',\n",
       " 'Sample1/images/micro_02_03',\n",
       " 'Sample1/images/micro_04_02',\n",
       " 'Sample1/images/micro_03_05',\n",
       " 'Sample1/images/micro_01_03',\n",
       " 'Sample1/images/micro_02_04',\n",
       " 'Sample1/images/micro_05_00',\n",
       " 'Sample1/images/micro_11_05',\n",
       " 'Sample1/images/micro_11_06',\n",
       " 'Sample1/images/micro_02_00',\n",
       " 'Sample1/images/micro_04_07',\n",
       " 'Sample1/images/micro_07_06',\n",
       " 'Sample1/images/micro_05_03',\n",
       " 'Sample1/images/micro_04_05',\n",
       " 'Sample1/images/micro_00_07',\n",
       " 'Sample1/images/micro_04_03',\n",
       " 'Sample1/images/micro_05_06',\n",
       " 'Sample1/images/micro_12_07',\n",
       " 'Sample1/images/micro_06_07',\n",
       " 'Sample1/images/micro_07_07',\n",
       " 'Sample1/images/micro_00_03',\n",
       " 'Sample1/images/micro_10_01',\n",
       " 'Sample1/images/micro_08_01',\n",
       " 'Sample1/images/micro_10_07',\n",
       " 'Sample1/images/micro_03_06',\n",
       " 'Sample1/images/micro_02_01',\n",
       " 'Sample1/images/micro_10_08',\n",
       " 'Sample1/images/micro_09_05',\n",
       " 'Sample2/images/micro_00_06',\n",
       " 'Sample2/images/micro_01_02',\n",
       " 'Sample2/images/micro_05_01',\n",
       " 'Sample2/images/micro_08_07',\n",
       " 'Sample2/images/micro_07_04',\n",
       " 'Sample2/images/micro_09_07',\n",
       " 'Sample2/images/micro_01_05',\n",
       " 'Sample2/images/micro_11_00',\n",
       " 'Sample2/images/micro_08_02',\n",
       " 'Sample2/images/micro_09_01',\n",
       " 'Sample2/images/micro_10_00',\n",
       " 'Sample2/images/micro_08_05',\n",
       " 'Sample2/images/micro_07_03',\n",
       " 'Sample2/images/micro_13_07',\n",
       " 'Sample2/images/micro_02_06',\n",
       " 'Sample2/images/micro_09_04',\n",
       " 'Sample2/images/micro_12_03',\n",
       " 'Sample2/images/micro_12_02',\n",
       " 'Sample2/images/micro_01_06',\n",
       " 'Sample2/images/micro_00_01',\n",
       " 'Sample2/images/micro_01_04',\n",
       " 'Sample2/images/micro_12_04',\n",
       " 'Sample2/images/micro_06_04',\n",
       " 'Sample2/images/micro_03_03',\n",
       " 'Sample2/images/micro_08_04',\n",
       " 'Sample2/images/micro_03_00',\n",
       " 'Sample2/images/micro_03_04',\n",
       " 'Sample2/images/micro_00_02',\n",
       " 'Sample2/images/micro_12_01',\n",
       " 'Sample2/images/micro_02_07',\n",
       " 'Sample2/images/micro_09_00',\n",
       " 'Sample2/images/micro_04_02',\n",
       " 'Sample2/images/micro_01_03',\n",
       " 'Sample2/images/micro_05_00',\n",
       " 'Sample2/images/micro_11_05',\n",
       " 'Sample2/images/micro_06_00',\n",
       " 'Sample2/images/micro_07_02',\n",
       " 'Sample2/images/micro_05_05',\n",
       " 'Sample2/images/micro_04_07',\n",
       " 'Sample2/images/micro_05_03',\n",
       " 'Sample2/images/micro_09_03',\n",
       " 'Sample2/images/micro_04_05',\n",
       " 'Sample2/images/micro_00_07',\n",
       " 'Sample2/images/micro_12_06',\n",
       " 'Sample2/images/micro_13_04',\n",
       " 'Sample2/images/micro_09_06',\n",
       " 'Sample2/images/micro_06_07',\n",
       " 'Sample2/images/micro_00_00',\n",
       " 'Sample2/images/micro_01_07',\n",
       " 'Sample2/images/micro_00_03',\n",
       " 'Sample2/images/micro_06_06',\n",
       " 'Sample2/images/micro_10_01',\n",
       " 'Sample2/images/micro_11_03',\n",
       " 'Sample2/images/micro_07_05',\n",
       " 'Sample2/images/micro_10_03',\n",
       " 'Sample2/images/micro_08_01',\n",
       " 'Sample2/images/micro_03_01',\n",
       " 'Sample2/images/micro_11_07',\n",
       " 'Sample2/images/micro_10_02',\n",
       " 'Sample2/images/micro_03_06',\n",
       " 'Sample2/images/micro_02_01',\n",
       " 'Sample2/images/micro_09_05',\n",
       " 'Sample3/images/micro_00_06',\n",
       " 'Sample3/images/micro_06_11',\n",
       " 'Sample3/images/micro_01_02',\n",
       " 'Sample3/images/micro_14_09',\n",
       " 'Sample3/images/micro_07_08',\n",
       " 'Sample3/images/micro_04_04',\n",
       " 'Sample3/images/micro_15_09',\n",
       " 'Sample3/images/micro_11_02',\n",
       " 'Sample3/images/micro_10_11',\n",
       " 'Sample3/images/micro_09_10',\n",
       " 'Sample3/images/micro_03_10',\n",
       " 'Sample3/images/micro_01_05',\n",
       " 'Sample3/images/micro_14_02',\n",
       " 'Sample3/images/micro_13_07',\n",
       " 'Sample3/images/micro_14_06',\n",
       " 'Sample3/images/micro_00_04',\n",
       " 'Sample3/images/micro_09_04',\n",
       " 'Sample3/images/micro_08_06',\n",
       " 'Sample3/images/micro_10_04',\n",
       " 'Sample3/images/micro_12_02',\n",
       " 'Sample3/images/micro_01_06',\n",
       " 'Sample3/images/micro_06_04',\n",
       " 'Sample3/images/micro_02_02',\n",
       " 'Sample3/images/micro_08_04',\n",
       " 'Sample3/images/micro_01_00',\n",
       " 'Sample3/images/micro_03_07',\n",
       " 'Sample3/images/micro_04_09',\n",
       " 'Sample3/images/micro_00_02',\n",
       " 'Sample3/images/micro_13_06',\n",
       " 'Sample3/images/micro_02_07',\n",
       " 'Sample3/images/micro_02_05',\n",
       " 'Sample3/images/micro_05_07',\n",
       " 'Sample3/images/micro_11_08',\n",
       " 'Sample3/images/micro_06_09',\n",
       " 'Sample3/images/micro_04_11',\n",
       " 'Sample3/images/micro_05_11',\n",
       " 'Sample3/images/micro_04_02',\n",
       " 'Sample3/images/micro_03_05',\n",
       " 'Sample3/images/micro_00_05',\n",
       " 'Sample3/images/micro_01_03',\n",
       " 'Sample3/images/micro_11_05',\n",
       " 'Sample3/images/micro_05_08',\n",
       " 'Sample3/images/micro_01_08',\n",
       " 'Sample3/images/micro_07_06',\n",
       " 'Sample3/images/micro_00_07',\n",
       " 'Sample3/images/micro_09_08',\n",
       " 'Sample3/images/micro_05_06',\n",
       " 'Sample3/images/micro_12_06',\n",
       " 'Sample3/images/micro_12_07',\n",
       " 'Sample3/images/micro_01_07',\n",
       " 'Sample3/images/micro_14_10',\n",
       " 'Sample3/images/micro_00_03',\n",
       " 'Sample3/images/micro_06_06',\n",
       " 'Sample3/images/micro_14_08',\n",
       " 'Sample3/images/micro_07_05',\n",
       " 'Sample3/images/micro_15_06',\n",
       " 'Sample3/images/micro_03_11',\n",
       " 'Sample3/images/micro_10_07',\n",
       " 'Sample3/images/micro_11_07',\n",
       " 'Sample3/images/micro_02_11',\n",
       " 'Sample3/images/micro_03_06',\n",
       " 'Sample3/images/micro_15_07',\n",
       " 'Sample3/images/micro_02_10',\n",
       " 'Sample3/images/micro_05_09',\n",
       " 'Sample3/images/micro_10_08',\n",
       " 'Sample3/images/micro_11_09',\n",
       " 'Sample4/images/micro_00_04',\n",
       " 'Sample4/images/micro_02_08',\n",
       " 'Sample4/images/micro_00_01',\n",
       " 'Sample4/images/micro_01_00',\n",
       " 'Sample4/images/micro_03_00',\n",
       " 'Sample4/images/micro_00_02',\n",
       " 'Sample4/images/micro_02_07',\n",
       " 'Sample4/images/micro_01_01',\n",
       " 'Sample4/images/micro_00_05',\n",
       " 'Sample4/images/micro_05_00',\n",
       " 'Sample4/images/micro_01_08',\n",
       " 'Sample4/images/micro_04_05',\n",
       " 'Sample4/images/micro_00_00',\n",
       " 'Sample4/images/micro_00_03',\n",
       " 'Sample5/images/micro_06_11',\n",
       " 'Sample5/images/micro_04_06',\n",
       " 'Sample5/images/micro_09_10',\n",
       " 'Sample5/images/micro_06_02',\n",
       " 'Sample5/images/micro_01_09',\n",
       " 'Sample5/images/micro_12_08',\n",
       " 'Sample5/images/micro_03_10',\n",
       " 'Sample5/images/micro_15_05',\n",
       " 'Sample5/images/micro_01_10',\n",
       " 'Sample5/images/micro_08_02',\n",
       " 'Sample5/images/micro_02_06',\n",
       " 'Sample5/images/micro_09_04',\n",
       " 'Sample5/images/micro_08_11',\n",
       " 'Sample5/images/micro_02_08',\n",
       " 'Sample5/images/micro_04_10',\n",
       " 'Sample5/images/micro_05_10',\n",
       " 'Sample5/images/micro_12_04',\n",
       " 'Sample5/images/micro_03_03',\n",
       " 'Sample5/images/micro_10_05',\n",
       " 'Sample5/images/micro_03_07',\n",
       " 'Sample5/images/micro_10_06',\n",
       " 'Sample5/images/micro_05_02',\n",
       " 'Sample5/images/micro_04_09',\n",
       " 'Sample5/images/micro_13_06',\n",
       " 'Sample5/images/micro_02_05',\n",
       " 'Sample5/images/micro_05_07',\n",
       " 'Sample5/images/micro_06_09',\n",
       " 'Sample5/images/micro_05_11',\n",
       " 'Sample5/images/micro_03_05',\n",
       " 'Sample5/images/micro_06_05',\n",
       " 'Sample5/images/micro_11_05',\n",
       " 'Sample5/images/micro_11_06',\n",
       " 'Sample5/images/micro_05_03',\n",
       " 'Sample5/images/micro_04_05',\n",
       " 'Sample5/images/micro_12_06',\n",
       " 'Sample5/images/micro_09_11',\n",
       " 'Sample5/images/micro_13_04',\n",
       " 'Sample5/images/micro_06_07',\n",
       " 'Sample5/images/micro_14_04',\n",
       " 'Sample5/images/micro_06_06',\n",
       " 'Sample5/images/micro_00_09',\n",
       " 'Sample5/images/micro_07_05',\n",
       " 'Sample5/images/micro_10_07',\n",
       " 'Sample5/images/micro_02_11',\n",
       " 'Sample5/images/micro_02_10',\n",
       " 'Sample5/images/micro_09_05',\n",
       " 'Sample6/images/micro_04_04',\n",
       " 'Sample6/images/micro_02_08',\n",
       " 'Sample6/images/micro_01_00',\n",
       " 'Sample6/images/micro_01_01',\n",
       " 'Sample6/images/micro_00_05',\n",
       " 'Sample6/images/micro_05_08',\n",
       " 'Sample6/images/micro_01_07',\n",
       " 'Sample6/images/micro_07_05',\n",
       " 'Sample7/images/micro_04_01',\n",
       " 'Sample7/images/micro_09_01',\n",
       " 'Sample7/images/micro_10_05',\n",
       " 'Sample7/images/micro_01_01',\n",
       " 'Sample7/images/micro_02_03',\n",
       " 'Sample7/images/micro_11_05',\n",
       " 'Sample7/images/micro_02_01']"
      ]
     },
     "execution_count": 10,
     "metadata": {},
     "output_type": "execute_result"
    }
   ],
   "source": [
    "ds.img_samples_"
   ]
  },
  {
   "cell_type": "code",
   "execution_count": 6,
   "id": "ae2ed343",
   "metadata": {},
   "outputs": [],
   "source": [
    "dl = DataLoader(ds, batch_size = 100, shuffle=True)"
   ]
  },
  {
   "cell_type": "code",
   "execution_count": 7,
   "id": "ebdc6212",
   "metadata": {},
   "outputs": [],
   "source": [
    "img, target = iter(dl).next()"
   ]
  },
  {
   "cell_type": "code",
   "execution_count": 15,
   "id": "e1fea7b3",
   "metadata": {},
   "outputs": [
    {
     "data": {
      "text/plain": [
       "torch.Size([100, 1, 200, 200])"
      ]
     },
     "execution_count": 15,
     "metadata": {},
     "output_type": "execute_result"
    }
   ],
   "source": [
    "F.interpolate(target, size=(200, 200)).shape"
   ]
  },
  {
   "cell_type": "code",
   "execution_count": 13,
   "id": "41e0124f",
   "metadata": {},
   "outputs": [
    {
     "data": {
      "text/plain": [
       "torch.Size([1200, 1600, 1])"
      ]
     },
     "execution_count": 13,
     "metadata": {},
     "output_type": "execute_result"
    }
   ],
   "source": [
    "target['mask'].size()"
   ]
  },
  {
   "cell_type": "code",
   "execution_count": 9,
   "id": "ecffc572",
   "metadata": {},
   "outputs": [
    {
     "data": {
      "text/plain": [
       "torch.Size([100, 3, 1200, 1600])"
      ]
     },
     "execution_count": 9,
     "metadata": {},
     "output_type": "execute_result"
    }
   ],
   "source": [
    "img.shape"
   ]
  },
  {
   "cell_type": "code",
   "execution_count": null,
   "id": "db650a6c",
   "metadata": {},
   "outputs": [],
   "source": []
  }
 ],
 "metadata": {
  "kernelspec": {
   "display_name": "Python 3 (ipykernel)",
   "language": "python",
   "name": "python3"
  },
  "language_info": {
   "codemirror_mode": {
    "name": "ipython",
    "version": 3
   },
   "file_extension": ".py",
   "mimetype": "text/x-python",
   "name": "python",
   "nbconvert_exporter": "python",
   "pygments_lexer": "ipython3",
   "version": "3.8.10"
  }
 },
 "nbformat": 4,
 "nbformat_minor": 5
}
